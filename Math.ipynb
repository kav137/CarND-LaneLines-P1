{
 "cells": [
  {
   "cell_type": "code",
   "execution_count": 3,
   "metadata": {
    "collapsed": true
   },
   "outputs": [],
   "source": [
    "import matplotlib.pyplot as plot\n",
    "import matplotlib.image as mpimg\n",
    "import numpy as numpy\n",
    "import math"
   ]
  },
  {
   "cell_type": "markdown",
   "metadata": {},
   "source": [
    "** Initalize lines **"
   ]
  },
  {
   "cell_type": "code",
   "execution_count": 4,
   "metadata": {},
   "outputs": [
    {
     "name": "stdout",
     "output_type": "stream",
     "text": [
      "Lines: left -  12 ; right -  11 ; noise -  6\n"
     ]
    }
   ],
   "source": [
    "numpy.random.seed(21)\n",
    "\n",
    "left_lane_lines = numpy.random.randint(3, 15 + 1)\n",
    "right_lane_lines = numpy.random.randint(3, 15 + 1)\n",
    "noise_lines = numpy.random.randint(2, 10 + 1)\n",
    "\n",
    "print('Lines: left - ', left_lane_lines, '; right - ', right_lane_lines, '; noise - ', noise_lines)"
   ]
  },
  {
   "cell_type": "markdown",
   "metadata": {},
   "source": [
    "** initialize angles **"
   ]
  },
  {
   "cell_type": "code",
   "execution_count": 7,
   "metadata": {
    "collapsed": true
   },
   "outputs": [],
   "source": [
    "left_line_angles = numpy.random.normal(45, 3, left_lane_lines).astype(int)\n",
    "right_line_angles = numpy.random.normal(135, 3, right_lane_lines).astype(int)\n",
    "noise_line_angles = numpy.random.randint(0, 180 + 1, noise_lines)"
   ]
  },
  {
   "cell_type": "markdown",
   "metadata": {},
   "source": [
    "** initialize lengths **"
   ]
  },
  {
   "cell_type": "code",
   "execution_count": null,
   "metadata": {
    "collapsed": true
   },
   "outputs": [],
   "source": [
    "left_line_length = numpy.random.randint(5, 100, left_lane_lines)\n",
    "right_line_length = numpy.random.randint(5, 100, right_lane_lines)\n",
    "noise_line_length = numpy.random.randint(5, 100, noise_lines)"
   ]
  },
  {
   "cell_type": "markdown",
   "metadata": {},
   "source": [
    "** initialize coordinates **"
   ]
  },
  {
   "cell_type": "code",
   "execution_count": 51,
   "metadata": {},
   "outputs": [],
   "source": [
    "# assume that our target values are 100 and 200\n",
    "left_line_coords = numpy.random.normal(100, 10, left_lane_lines).astype(int)\n",
    "right_lane_coords = numpy.random.normal(200, 10, right_lane_lines).astype(int)\n",
    "noise_line_coords = numpy.random.randint(0, 500 + 1, noise_lines)"
   ]
  },
  {
   "cell_type": "markdown",
   "metadata": {},
   "source": [
    "** merge angles with lengths **"
   ]
  },
  {
   "cell_type": "code",
   "execution_count": 27,
   "metadata": {},
   "outputs": [],
   "source": [
    "# get array of [angle, length, OX_coord]\n",
    "def merge(*pairs):\n",
    "    result = None\n",
    "    for pair in pairs:\n",
    "        for source, *values in pair:\n",
    "            merged = source[:, None]\n",
    "            for value in values:\n",
    "                merged = numpy.append(merged, value[:, None], axis=1)\n",
    "            result = merged if result is None else numpy.concatenate((merged, result), axis=0)\n",
    "    return result\n",
    "\n",
    "pairs = [\n",
    "    [noise_line_angles, noise_line_length, noise_line_coords],\n",
    "    [left_line_angles, left_line_length, left_line_coords],\n",
    "    [right_line_angles, right_line_length, right_lane_coords]\n",
    "]\n",
    "lines = merge(pairs)\n",
    "numpy.random.shuffle(lines)\n"
   ]
  },
  {
   "cell_type": "markdown",
   "metadata": {},
   "source": [
    "** Analysis logic **"
   ]
  },
  {
   "cell_type": "code",
   "execution_count": 47,
   "metadata": {
    "collapsed": true
   },
   "outputs": [],
   "source": [
    "# Neighboors function is used to convolve own values with values of cell's neighboors. The principle is:\n",
    "# \"it's better to have a lot of lines with similar angle values (even if they are short), than be a long single one\"\n",
    "def neighboors(quantity_array, weights_array, frame_size, neighboors_length_weight=0.7):\n",
    "    frame_size += 1\n",
    "    \n",
    "    neighboors_info = []\n",
    "    size = quantity_array.size\n",
    "    neighboors_quantity_max = 0\n",
    "    \n",
    "    for index in range(size):\n",
    "        neighboors_weight = 0\n",
    "        neighboors_quantity = 0\n",
    "        \n",
    "        for i in range(index - frame_size + 1, index):\n",
    "            if (i > 0):\n",
    "                neighboors_quantity += quantity_array[i]\n",
    "                neighboors_weight += weights_array[i]\n",
    "            \n",
    "        for i in range(index + 1, index + frame_size):\n",
    "            if (i < size - 1):\n",
    "                neighboors_quantity += quantity_array[i]\n",
    "                neighboors_weight += weights_array[i]\n",
    "        \n",
    "        if (neighboors_quantity_max < neighboors_quantity):\n",
    "            neighboors_quantity_max = neighboors_quantity\n",
    "\n",
    "        neighboors_info.append([neighboors_quantity, neighboors_weight])\n",
    "    \n",
    "    total_weights = []\n",
    "    for info in neighboors_info:\n",
    "        quantity, weight = info\n",
    "        total_weight = neighboors_length_weight * weight * quantity / neighboors_quantity_max\n",
    "        total_weights.append(total_weight)\n",
    "\n",
    "    return numpy.array(total_weights).astype(int)\n",
    "\n",
    "def normalize(array, base=100):\n",
    "    max_value = max(array)\n",
    "    return array * base / max_value\n",
    "\n",
    "def moving_average(a, n=3) :\n",
    "    ret = numpy.cumsum(a, dtype=int)\n",
    "    ret[n:] = ret[n:] - ret[:-n]\n",
    "    return ret[n - 1:] / n\n",
    "\n",
    "# once we haved smoothed distribution we need to get peak values\n",
    "def find_peaks(array, threshold):\n",
    "    peaks = []\n",
    "    threshold_value = max(array) * threshold\n",
    "    arr_length = len(array)\n",
    "    for i in range(arr_length):\n",
    "        if i - 1 < 0 or i + 1 >= arr_length:\n",
    "            continue\n",
    "        if array[i] > threshold_value and array[i-1] < array[i] and array[i] > array[i+1]:\n",
    "            peaks.append(i)\n",
    "    return peaks\n",
    "\n",
    "# find coordinates where line with particular angle would start (on the OX axis ~ the very bottom row of image)\n",
    "def get_coords(lines, target_angles, frame_size=5):\n",
    "    lines_crosses = []\n",
    "    coords = []\n",
    "    angles_total = len(target_angles)\n",
    "    for i in range(angles_total):\n",
    "        lines_crosses.append([])\n",
    "        \n",
    "    for line in lines:\n",
    "        angle, length, coord = line\n",
    "        for i in range(angles_total):\n",
    "            target_angle = target_angles[i]\n",
    "            current_angle_coords = lines_crosses[i]\n",
    "            if target_angle - frame_size <= angle <= target_angle + frame_size:\n",
    "                current_angle_coords.append(coord)\n",
    "                \n",
    "#     it seems like we can improve algorithm here via distribution and neighboors instead of averaging\n",
    "    for angle_coords in lines_crosses:\n",
    "        coords.append(numpy.average(angle_coords).astype(int))  \n",
    "    return coords"
   ]
  },
  {
   "cell_type": "markdown",
   "metadata": {},
   "source": [
    "** Evaluate calculations **"
   ]
  },
  {
   "cell_type": "code",
   "execution_count": 49,
   "metadata": {},
   "outputs": [],
   "source": [
    "BINS = 180\n",
    "RANGE = (0, 180)\n",
    "OWN_LENGTH_WEIGHT = 0.4\n",
    "\n",
    "# finding angles\n",
    "quantity_histogram = numpy.histogram(lines[:,0], bins=BINS, range=RANGE)[0]\n",
    "length_weights = (lines[:,1] * OWN_LENGTH_WEIGHT).astype(int)\n",
    "own_weights_histogram = numpy.histogram(\n",
    "    lines[:,0],\n",
    "    bins=BINS,\n",
    "    range=RANGE,\n",
    "    weights=length_weights\n",
    ")[0]\n",
    "\n",
    "neighboors_weights_histogram = neighboors(quantity_histogram, own_weights_histogram, 5)\n",
    "result = neighboors_weights_histogram + own_weights_histogram\n",
    "smoothed_result = moving_average(result, n=5)\n",
    "normalized_result = normalize(smoothed_result)\n",
    "target_angles = find_peaks(normalized_result, .5)\n",
    "\n",
    "coords = get_coords(lines, target_angles)"
   ]
  },
  {
   "cell_type": "markdown",
   "metadata": {},
   "source": [
    "** Display results **"
   ]
  },
  {
   "cell_type": "code",
   "execution_count": 50,
   "metadata": {},
   "outputs": [
    {
     "data": {
      "image/png": "[encoded data removed]",
      "text/plain": [
       "<matplotlib.figure.Figure at 0x13a9fde85c0>"
      ]
     },
     "metadata": {},
     "output_type": "display_data"
    },
    {
     "name": "stdout",
     "output_type": "stream",
     "text": [
      "Angles are: [43, 131]\n",
      "Coordinates are: [99, 198]\n"
     ]
    }
   ],
   "source": [
    "plot.figure(figsize=(15, 9))\n",
    "\n",
    "# show  distribution\n",
    "plot.subplot(311)\n",
    "plot.plot(quantity_histogram)\n",
    "\n",
    "# show weighted distribution\n",
    "plot.subplot(312)\n",
    "plot.plot(own_weights_histogram)\n",
    "plot.plot(neighboors_weights_histogram)\n",
    "\n",
    "# show results\n",
    "plot.subplot(313)\n",
    "plot.plot(normalized_result)\n",
    "\n",
    "plot.show()\n",
    "print('Angles are:', target_angles)\n",
    "print('Coordinates are:', coords)"
   ]
  }
 ],
 "metadata": {
  "kernelspec": {
   "display_name": "Python 3",
   "language": "python",
   "name": "python3"
  },
  "language_info": {
   "codemirror_mode": {
    "name": "ipython",
    "version": 3
   },
   "file_extension": ".py",
   "mimetype": "text/x-python",
   "name": "python",
   "nbconvert_exporter": "python",
   "pygments_lexer": "ipython3",
   "version": "3.5.2"
  },
  "widgets": {
   "state": {},
   "version": "1.1.2"
  }
 },
 "nbformat": 4,
 "nbformat_minor": 2
}

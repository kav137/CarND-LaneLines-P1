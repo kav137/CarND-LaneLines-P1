{
 "cells": [
  {
   "cell_type": "code",
   "execution_count": 127,
   "metadata": {},
   "outputs": [],
   "source": [
    "import matplotlib.pyplot as plot\n",
    "import matplotlib.image as mpimg\n",
    "import numpy as numpy\n",
    "import math"
   ]
  },
  {
   "cell_type": "markdown",
   "metadata": {},
   "source": [
    "** Initalize lines **"
   ]
  },
  {
   "cell_type": "code",
   "execution_count": 128,
   "metadata": {},
   "outputs": [
    {
     "name": "stdout",
     "output_type": "stream",
     "text": [
      "Lines: left -  12 ; right -  11 ; noise -  6\n"
     ]
    }
   ],
   "source": [
    "numpy.random.seed(21)\n",
    "\n",
    "left_lane_lines = numpy.random.randint(3, 15 + 1)\n",
    "right_lane_lines = numpy.random.randint(3, 15 + 1)\n",
    "noise_lines = numpy.random.randint(2, 10 + 1)\n",
    "\n",
    "print('Lines: left - ', left_lane_lines, '; right - ', right_lane_lines, '; noise - ', noise_lines)"
   ]
  },
  {
   "cell_type": "markdown",
   "metadata": {},
   "source": [
    "** initialize angles **"
   ]
  },
  {
   "cell_type": "code",
   "execution_count": 129,
   "metadata": {},
   "outputs": [],
   "source": [
    "left_line_angles = numpy.random.normal(45, 3, left_lane_lines).astype(int)\n",
    "right_line_angles = numpy.random.normal(135, 3, right_lane_lines).astype(int)\n",
    "noise_line_angles = numpy.random.randint(0, 180 + 1, noise_lines)"
   ]
  },
  {
   "cell_type": "markdown",
   "metadata": {},
   "source": [
    "** initialize lengths **"
   ]
  },
  {
   "cell_type": "code",
   "execution_count": 130,
   "metadata": {},
   "outputs": [],
   "source": [
    "left_line_length = numpy.random.randint(5, 100, left_lane_lines)\n",
    "right_line_length = numpy.random.randint(5, 100, right_lane_lines)\n",
    "noise_line_length = numpy.random.randint(5, 100, noise_lines)"
   ]
  },
  {
   "cell_type": "markdown",
   "metadata": {},
   "source": [
    "** merge angles with lengths **"
   ]
  },
  {
   "cell_type": "code",
   "execution_count": 131,
   "metadata": {},
   "outputs": [
    {
     "name": "stdout",
     "output_type": "stream",
     "text": [
      "[[ 42  63]\n",
      " [ 44  71]\n",
      " [ 30  39]\n",
      " [ 30   9]\n",
      " [ 48  37]\n",
      " [133  52]\n",
      " [131  69]\n",
      " [129  44]\n",
      " [132  83]\n",
      " [135  30]\n",
      " [131  97]\n",
      " [ 41  95]\n",
      " [ 47  37]\n",
      " [ 39  68]\n",
      " [ 44  30]\n",
      " [ 49  38]\n",
      " [132  23]\n",
      " [130  10]\n",
      " [135  29]\n",
      " [153  55]\n",
      " [ 49  13]\n",
      " [118  48]\n",
      " [ 43  76]\n",
      " [133  99]\n",
      " [135  30]\n",
      " [ 44  84]\n",
      " [ 48  58]\n",
      " [ 76  44]\n",
      " [137  55]]\n",
      "[63 71 39  9 37 52 69 44 83 30 97 95 37 68 30 38 23 10 29 55 13 48 76 99 30\n",
      " 84 58 44 55]\n"
     ]
    }
   ],
   "source": [
    "def merge(*pairs):\n",
    "    result = None\n",
    "    for pair in pairs:\n",
    "        for source, values in pair:\n",
    "#             merged = numpy.insert(source[:, None], 1, values, axis=1)\n",
    "            merged = numpy.append(source[:, None], values[:, None], axis=1)\n",
    "            result = merged if result is None else numpy.concatenate((merged, result), axis=0)\n",
    "    return result\n",
    "\n",
    "pairs = [[noise_line_angles, noise_line_length], [left_line_angles, left_line_length], [right_line_angles, right_line_length]]\n",
    "lines = merge(pairs)\n",
    "numpy.random.shuffle(lines)\n",
    "\n",
    "print(lines)\n",
    "print(lines[:,1])"
   ]
  },
  {
   "cell_type": "markdown",
   "metadata": {},
   "source": [
    "** Visualization of angles**"
   ]
  },
  {
   "cell_type": "code",
   "execution_count": 176,
   "metadata": {},
   "outputs": [
    {
     "name": "stdout",
     "output_type": "stream",
     "text": [
      "[0 0 0 0 0 0 0 0 0 0 0 0 0 0 0 0 0 0 0 0 0 0 0 0 0 0 0 0 0 0 2 0 0 0 0 0 0\n",
      " 0 0 1 0 1 1 1 3 0 0 1 2 2 0 0 0 0 0 0 0 0 0 0 0 0 0 0 0 0 0 0 0 0 0 0 0 0\n",
      " 0 0 1 0 0 0 0 0 0 0 0 0 0 0 0 0 0 0 0 0 0 0 0 0 0 0 0 0 0 0 0 0 0 0 0 0 0\n",
      " 0 0 0 0 0 0 0 1 0 0 0 0 0 0 0 0 0 0 1 1 2 2 2 0 3 0 1 0 0 0 0 0 0 0 0 0 0\n",
      " 0 0 0 0 0 1 0 0 0 0 0 0 0 0 0 0 0 0 0 0 0 0 0 0 0 0 0 0 0 0 0 0]\n",
      "[ 0  0  0  0  0  0  0  0  0  0  0  0  0  0  0  0  0  0  0  0  0  0  0  0  0\n",
      "  2  2  2  2  2  0  2  2  2  3  3  2  3  4  6  7  6  7  9  9 11 11  9  7  6\n",
      "  5  5  5  4  2  0  0  0  0  0  0  0  0  0  0  0  0  0  0  0  0  1  1  1  1\n",
      "  1  0  1  1  1  1  1  0  0  0  0  0  0  0  0  0  0  0  0  0  0  0  0  0  0\n",
      "  0  0  0  0  0  0  0  0  0  0  0  0  0  1  1  1  1  1  0  1  1  1  1  1  1\n",
      "  2  4  6  8  7 10  9 10 10 12  8 10  7  6  4  4  1  1  0  0  0  0  0  1  1\n",
      "  1  1  1  0  1  1  1  1  1  0  0  0  0  0  0  0  0  0  0  0  0  0  0  0  0\n",
      "  0  0  0  0  0]\n",
      "[  0   0   0   0   0   0   0   0   0   0   0   0   0   0   0   0   0   0\n",
      "   0   0   0   0   0   0   0   0   0   0   0   0  28   0   0   0   0   0\n",
      "   0   0   0  40   0  57  37  45 110   0   0  22  56  29   0   0   0   0\n",
      "   0   0   0   0   0   0   0   0   0   0   0   0   0   0   0   0   0   0\n",
      "   0   0   0   0  26   0   0   0   0   0   0   0   0   0   0   0   0   0\n",
      "   0   0   0   0   0   0   0   0   0   0   0   0   0   0   0   0   0   0\n",
      "   0   0   0   0   0   0   0   0   0   0  28   0   0   0   0   0   0   0\n",
      "   0   0   0  26   6  99  62  90   0  53   0  33   0   0   0   0   0   0\n",
      "   0   0   0   0   0   0   0   0   0  33   0   0   0   0   0   0   0   0\n",
      "   0   0   0   0   0   0   0   0   0   0   0   0   0   0   0   0   0   0]\n",
      "12\n"
     ]
    }
   ],
   "source": [
    "BINS = 180\n",
    "RANGE = (0, 180)\n",
    "OWN_LENGTH_WEIGHT = 0.6\n",
    "NEIGHBOOR_LENGTH_WEIGHT = 0.1\n",
    "\n",
    "# plot.figure(figsize=(15, 7))\n",
    "def neighboors(quantity_array, frame_size):\n",
    "    neighboors = []\n",
    "    size = quantity_array.size\n",
    "    frame_size += 1\n",
    "    for index in range(size):\n",
    "        acc = 0\n",
    "        for i in range(index - frame_size + 1, index):\n",
    "            acc += quantity_array[i] if i > 0 else 0\n",
    "        for i in range(index + 1, index + frame_size):\n",
    "            acc += quantity_array[i] if (i < size - 1) else 0\n",
    "        neighboors.append(acc)\n",
    "\n",
    "    return numpy.array(neighboors)\n",
    "\n",
    "quantity_histogram = numpy.histogram(lines[:,0], bins=BINS, range=RANGE)[0]\n",
    "length_weights = (lines[:,1] * OWN_LENGTH_WEIGHT).astype(int)\n",
    "own_weights_histogram = numpy.histogram(\n",
    "    lines[:,0],\n",
    "    bins=BINS,\n",
    "    range=RANGE,\n",
    "    weights=length_weights\n",
    ")[0]\n",
    "\n",
    "neighboors_histogram = neighboors(quantity_histogram, 5)\n",
    "max_neighboors = max(neighboors_histogram)\n",
    "# neighboors_length_histogram = \n",
    "\n",
    "\n",
    "print(quantity_histogram)\n",
    "print(neighboors_histogram)\n",
    "print(own_weights_histogram)\n",
    "print(max_neighboors)\n",
    "# plot.plot(histogram)\n",
    "\n",
    "# plot.subplot(122)\n",
    "# plot.plot(lines[:,1])\n",
    "\n",
    "# plot.show()"
   ]
  },
  {
   "cell_type": "code",
   "execution_count": 173,
   "metadata": {},
   "outputs": [
    {
     "name": "stdout",
     "output_type": "stream",
     "text": [
      "[ 3 12 27]\n"
     ]
    }
   ],
   "source": [
    "a = numpy.array([1,2,3])\n",
    "b = numpy.array(a * 3)\n",
    "print(a * b)"
   ]
  },
  {
   "cell_type": "code",
   "execution_count": null,
   "metadata": {},
   "outputs": [],
   "source": []
  }
 ],
 "metadata": {
  "kernelspec": {
   "display_name": "Python 3",
   "language": "python",
   "name": "python3"
  },
  "language_info": {
   "codemirror_mode": {
    "name": "ipython",
    "version": 3
   },
   "file_extension": ".py",
   "mimetype": "text/x-python",
   "name": "python",
   "nbconvert_exporter": "python",
   "pygments_lexer": "ipython3",
   "version": "3.5.2"
  },
  "widgets": {
   "state": {},
   "version": "1.1.2"
  }
 },
 "nbformat": 4,
 "nbformat_minor": 2
}
